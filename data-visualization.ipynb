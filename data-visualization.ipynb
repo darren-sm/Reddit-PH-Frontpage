{
 "cells": [
  {
   "cell_type": "markdown",
   "id": "abfe8f58",
   "metadata": {},
   "source": [
    "# DATA VISUALIZATION\n",
    "This notebook uses the data stored in fron-page.json file. It is created after web scraping the reddit front page which is from the other notebook `frontpage-webscraping`. "
   ]
  },
  {
   "cell_type": "markdown",
   "id": "37894acd",
   "metadata": {},
   "source": [
    "### 1. Word Cloud\n",
    "Word cloud based on the comments of Reddit users"
   ]
  },
  {
   "cell_type": "code",
   "execution_count": null,
   "id": "463bba7b",
   "metadata": {},
   "outputs": [],
   "source": []
  }
 ],
 "metadata": {
  "kernelspec": {
   "display_name": "Python 3 (ipykernel)",
   "language": "python",
   "name": "python3"
  },
  "language_info": {
   "codemirror_mode": {
    "name": "ipython",
    "version": 3
   },
   "file_extension": ".py",
   "mimetype": "text/x-python",
   "name": "python",
   "nbconvert_exporter": "python",
   "pygments_lexer": "ipython3",
   "version": "3.10.6"
  }
 },
 "nbformat": 4,
 "nbformat_minor": 5
}
